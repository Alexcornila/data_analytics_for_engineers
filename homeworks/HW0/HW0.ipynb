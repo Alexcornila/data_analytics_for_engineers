{
 "cells": [
  {
   "cell_type": "markdown",
   "metadata": {},
   "source": [
    "# Python exercises\n",
    "\n",
    "The transition from Matlab to Python is relatively easy, and there are tons of resources online for learning Python. This notebook will guide you through a few simple exercises to get the hang of some of the most noticable differences. **Please pay attention to how much time this assignment takes you. We will ask about this later.**\n",
    "\n",
    "## Helpful Resources\n",
    "If you are new to Python this assignment may be very challenging. One great thing about Python is the wealth of helpful knowledge that is available online. You should get used to searching for keywords that you aren't familiar with and reading examples from sites like Stack Overflow. Reading examples and tutorials is the best way to learn. A few posts/sites that might be useful for this assignment are below:\n",
    "\n",
    "* [String formatting](https://www.digitalocean.com/community/tutorials/how-to-use-string-formatters-in-python-3)\n",
    "* [Python dictionaries](https://www.python-course.eu/dictionaries.php)\n",
    "* [Indentation](http://www.diveintopython.net/getting_to_know_python/indenting_code.html)\n",
    "* [Importing](https://www.digitalocean.com/community/tutorials/how-to-import-modules-in-python-3)\n",
    "* [Function definition](https://www.tutorialspoint.com/python/python_functions.htm)\n",
    "* [Keyword arguments](http://www.diveintopython.net/power_of_introspection/optional_arguments.html)\n",
    "* [Classes and Object Orientation](https://jeffknupp.com/blog/2014/06/18/improve-your-python-python-classes-and-object-oriented-programming/)\n",
    "* [List comprehensions](https://www.analyticsvidhya.com/blog/2016/01/python-tutorial-list-comprehension-examples/)\n",
    "\n",
    "Note that I have not read these tutorials closely, but they appear useful. I found each one in about 1 minute, so in the future you should be prepared to search for this supplementary information independently. Another strategy is to identify one of the many tutorial/courses online that makes the most sense to you and read through it. Don't worry if every detail doesn't make sense, just try to get the basics and you will pick the rest up as we go along.\n",
    "\n",
    "## Printing and formatting\n",
    "One difference from Matlab is that Python does not automatically print things, you have to tell it what to print. Fortunately, printing in Python is relatively straightforward with the \"print\" function, and it also has some fancy \"string formatting\" functionality. For homeworks you should print the answer unless otherwise stated. Use the print function to print \"Hello World\", \"Hello **planet**\", and \"Hello **planet** number **N**\" where **planet** and **N** are variables defined below."
   ]
  },
  {
   "cell_type": "code",
   "execution_count": 3,
   "metadata": {
    "collapsed": true
   },
   "outputs": [],
   "source": [
    "planet = \"Mars\"\n",
    "N = 9"
   ]
  },
  {
   "cell_type": "markdown",
   "metadata": {},
   "source": [
    "## Zero and negative indexing\n",
    "The first difference is pretty simple: Python starts counting from zero. It also allows you to use \"negative indexing\" that counts from the end of the list, so that -1 is the last item, -2 next-to-last item, etc. Use zero and negative indexing to determine the first, last, and next-to-last item in the list \"A\" below. Don't worry about how \"A\" is generated, we will get to that later."
   ]
  },
  {
   "cell_type": "code",
   "execution_count": 4,
   "metadata": {
    "collapsed": true
   },
   "outputs": [],
   "source": [
    "A = [x**3 for x in range(10)] #Note that ** is \"to the power of\", like ^ in Matlab"
   ]
  },
  {
   "cell_type": "markdown",
   "metadata": {},
   "source": [
    "## Dictionaries and data types\n",
    "\n",
    "Python has more flexible data types than Matlab. One of the most useful are \"dictionaries\", which allow easy access to data based on a \"key\". The code below generates a dictionary called \"Adict\" where each \"key\" is a number and the corresponding \"value\" is that number to the power of 3. Use this dictionary to find the value of 6^3."
   ]
  },
  {
   "cell_type": "code",
   "execution_count": 5,
   "metadata": {
    "collapsed": true
   },
   "outputs": [],
   "source": [
    "Adict = {}\n",
    "for x in range(10):\n",
    "    Adict[x] = x**3\n",
    "    \n"
   ]
  },
  {
   "cell_type": "markdown",
   "metadata": {},
   "source": [
    "## Indentation\n",
    "\n",
    "In python, indentation is a key part of the structure of the code. Loops, functions, and class definitions all depend on proper indentation. Note that \"tab indents\" and \"space indents\" are not the same in python, so it is important that you always use the same type of indentation in a given file. The standard is to use 4 spaces as indentation. Fix the code below so that it runs properly and prints each key and value of \"Adict\" (do not delete any lines)."
   ]
  },
  {
   "cell_type": "code",
   "execution_count": 6,
   "metadata": {
    "collapsed": false
   },
   "outputs": [
    {
     "ename": "IndentationError",
     "evalue": "unexpected indent (<ipython-input-6-e2668df13c39>, line 3)",
     "output_type": "error",
     "traceback": [
      "\u001b[0;36m  File \u001b[0;32m\"<ipython-input-6-e2668df13c39>\"\u001b[0;36m, line \u001b[0;32m3\u001b[0m\n\u001b[0;31m    print(\"=\"*10)\u001b[0m\n\u001b[0m    ^\u001b[0m\n\u001b[0;31mIndentationError\u001b[0m\u001b[0;31m:\u001b[0m unexpected indent\n"
     ]
    }
   ],
   "source": [
    "for i,key in enumerate(Adict):\n",
    "    val = Adict[key]\n",
    "     print(\"=\"*10)\n",
    "    print(\"Item: {}\".format(i))\n",
    "    print(\"Key: {}\".format(key))\n",
    "     print(\"Value: {}\".format(val))\n",
    "        print(\"=\"*10)\n",
    "    "
   ]
  },
  {
   "cell_type": "markdown",
   "metadata": {},
   "source": [
    "## Imports\n",
    "\n",
    "One very useful feature of Python is the ability to easily import code and functions from existing libraries or your own work. The first line of the next block will write a python file called \"foo.py\" that contains a variable \"bar\". Import the variable \"bar\" from the script \"foo.py\" and print its value. You can place the import statement below the existing line or insert a new block."
   ]
  },
  {
   "cell_type": "code",
   "execution_count": null,
   "metadata": {
    "collapsed": true
   },
   "outputs": [],
   "source": [
    "! echo bar=8 > foo.py"
   ]
  },
  {
   "cell_type": "markdown",
   "metadata": {},
   "source": [
    "**Note:** If you are having trouble with the cell above ensure you are running Jupyter version 4.2.1.\n",
    "\n",
    "A more common use of imports is to import existing libraries. You can import specific functions from libraries, or import libraries with short-hand aliases that save keystrokes. For example, the library *numpy* is almost always imported as \"np\". Import numpy as \"np\" below, and import the \"sqrt\" function from the \"math\" module. You will probably need to do some Googling to figure this out. After you import these libraries \"print\" them. Don't worry if the output doesn't make sense. Note that if you do not do this correctly the rest of the cells will not execute!"
   ]
  },
  {
   "cell_type": "code",
   "execution_count": null,
   "metadata": {
    "collapsed": true
   },
   "outputs": [],
   "source": []
  },
  {
   "cell_type": "markdown",
   "metadata": {},
   "source": [
    "## Function definitions\n",
    "\n",
    "Function definitions are similar to Matlab, but there is slight difference since Python can accept \"keyword arguments\" that can be optional. Below is code that checks if a number is prime and prints the result. Modify this into a function with the following inputs and ouputs:\n",
    "\n",
    "inputs:\n",
    "number (required argument that is the number to check)\n",
    "verbose (optional keyword argument that can be True or False. Default is False)\n",
    "\n",
    "output:\n",
    "prime (True or False)\n"
   ]
  },
  {
   "cell_type": "code",
   "execution_count": null,
   "metadata": {
    "collapsed": true
   },
   "outputs": [],
   "source": [
    "number = 56\n",
    "verbose = True\n",
    "\n",
    "if number > 1:\n",
    "# check for factors\n",
    "    for i in range(2,int(sqrt(number)+1)):\n",
    "        if (number % i) == 0:\n",
    "            if verbose == True:\n",
    "                print(number,\"is not a prime number\")\n",
    "                print(i,\"times\",number//i,\"is\",number)\n",
    "            break\n",
    "        else:\n",
    "            if verbose == True:\n",
    "                print(number,\"is a prime number\")\n",
    "# if input number is less than\n",
    "# or equal to 1, it is not prime\n",
    "else:\n",
    "    if verbose == True:\n",
    "        print(number,\"is not a prime number\")"
   ]
  },
  {
   "cell_type": "markdown",
   "metadata": {},
   "source": [
    "## Classes and \"object orientation\"\n",
    "\n",
    "Python's object orientation is a powerful advantage over Matlab, but it can take some getting used to. \"Objects\" in Python are defined with \"class\", and can inherit from other classes. In Python **everything is an object** so you can easily inherit from existing built-in classes. The code below defines a class called \"SuperInteger\" that inherits from the built-in integer class. Add a method to this class called \"check_prime\" that will check if any SuperInteger is prime, and add an attribute called \"is_prime\" that will be set to True/False when \"check_prime\" is executed. If you do this properly the second block below should execute with the output \"True\". Remember that you can call your function that you defined above inside the check_prime method!"
   ]
  },
  {
   "cell_type": "code",
   "execution_count": null,
   "metadata": {
    "collapsed": true
   },
   "outputs": [],
   "source": [
    "class SuperInteger(int):\n",
    "    def __init__(self,integer):\n",
    "        self.original_input = integer\n",
    "        if integer != int(integer):\n",
    "            print(\"Warning: The supplied number is not an integer!\")\n",
    "            print(\"The original number will be stored as the original_input attribute\")\n",
    "\n",
    "\n",
    "        int.__init__(integer) #This \"initializes\" the integer argument with the parent int class.\n",
    "        \n",
    "    def check_prime(self):\n",
    "        pass\n",
    "        #You need to fill this function in.\n",
    "        "
   ]
  },
  {
   "cell_type": "code",
   "execution_count": null,
   "metadata": {
    "collapsed": true
   },
   "outputs": [],
   "source": [
    "si = SuperInteger(107)\n",
    "si.check_prime()\n",
    "print(si.is_prime)\n",
    "assert si.check_prime() == si.is_prime #this checks that the output of check_prime function is the same as is_prime."
   ]
  },
  {
   "cell_type": "markdown",
   "metadata": {},
   "source": [
    "## List comprehensions\n",
    "\n",
    "List comprehensions are an extremely useful tool in Python, but they are a little hard to get used to. You have actually already seen a list comprehension -- it generated the list \"A\" above. The list comprehension below checks to see if each member of \"A\" is odd or even and returns a list \"A_even\" that includes only the even numbers from \"A\". You need to modify the list comprehension so that it returns a list of only the prime numbers from \"A\"."
   ]
  },
  {
   "cell_type": "code",
   "execution_count": 8,
   "metadata": {
    "collapsed": false
   },
   "outputs": [
    {
     "name": "stdout",
     "output_type": "stream",
     "text": [
      "[0, 8, 64, 216, 512]\n",
      "[0, 1, 8, 27, 64, 125, 216, 343, 512, 729]\n"
     ]
    }
   ],
   "source": [
    "A_even = [a for a in A if a%2 == 0] # the % operator returns the remainder of a/2\n",
    "print(A_even)\n",
    "print(A)"
   ]
  },
  {
   "cell_type": "markdown",
   "metadata": {},
   "source": [
    "## Timing\n",
    "\n",
    "Occassionally it is useful to measure the amount of time that a function takes to check its efficiency. You can do this with the \"time\" module. Note that any matrix manipulations will be much faster if you use the numpy library! To compare speeds use the \"matmult\" function (don't worry about how this works, I borrowed it from [StackOverflow](https://stackoverflow.com/questions/10508021/matrix-multiplication-in-python)) defined and compare with the built-in numpy matrix multiplication for two random 100x100 matrices (defined as A and B). Print the ratio of the time that it takes to run the built in function divided by the time it takes to run the numpy version."
   ]
  },
  {
   "cell_type": "code",
   "execution_count": null,
   "metadata": {
    "collapsed": true
   },
   "outputs": [],
   "source": [
    "def matmult(a,b): \n",
    "    zip_b = list(zip(*b))\n",
    "    return [[sum(ele_a*ele_b for ele_a, ele_b in zip(row_a, col_b)) \n",
    "             for col_b in zip_b] for row_a in a] #<- this is one hell of a list comprehension!\n",
    "\n",
    "N = 100\n",
    "A = np.random.rand(N,N)\n",
    "B = np.random.rand(N,N)\n",
    "\n",
    "matmult(A,B) #function above\n",
    "\n",
    "np.matmul(A,B) #numpy version. Note that A*B is NOT equal to matmul(A,B)! This is very important."
   ]
  }
 ],
 "metadata": {
  "anaconda-cloud": {},
  "kernelspec": {
   "display_name": "Python 3",
   "language": "python",
   "name": "python3"
  },
  "language_info": {
   "codemirror_mode": {
    "name": "ipython",
    "version": 3
   },
   "file_extension": ".py",
   "mimetype": "text/x-python",
   "name": "python",
   "nbconvert_exporter": "python",
   "pygments_lexer": "ipython3",
   "version": "3.6.3"
  }
 },
 "nbformat": 4,
 "nbformat_minor": 2
}
