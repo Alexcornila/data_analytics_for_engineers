{
 "cells": [
  {
   "cell_type": "markdown",
   "metadata": {},
   "source": [
    "## Basic Concepts in Machine Learning\n",
    "\n",
    "<center>\n",
    "<img src=\"images/overview.png\" width=\"900\">\n",
    "</center>"
   ]
  },
  {
   "cell_type": "markdown",
   "metadata": {},
   "source": [
    "This lecture will discuss the basic structure and concepts that underly machine learning models, and explore the various types of algorithms used in machine learning through prototype examples. Ultimately the `scikit-learn` python package and other useful programming tools will be introduced. \n",
    "\n",
    "* Programming tools\n",
    "    - scikit-learn\n",
    "    - scipy\n",
    "    - autograd\n",
    "* Machine learning basics:\n",
    "    - The structure of a machine-learing model\n",
    "    - Classes of models\n",
    "    - Model complexity (hyperparameter selection)\n",
    "    - Model parameter optimization (loss/objective function)\n",
    "    - Model validation (cross validation)\n",
    "    - Interpolation vs. Extrapolation\n",
    "    - Local vs. Global models\n",
    "* Mathematical background:\n",
    "    - Linear vs. Non-linear models\n",
    "    - Linear algebra\n",
    "    - Numerical optimization\n",
    "* Prototype algorithms\n",
    "    - Generalized linear regression\n",
    "    - kNN (classification)\n",
    "    - k-means (clustering)\n",
    "    - PCA (dimensional reduction)\n"
   ]
  },
  {
   "cell_type": "markdown",
   "metadata": {},
   "source": [
    "## Programming tools\n",
    "\n",
    "Machine learning algorithms can be complicated. Luckily, many implementations are openly available in Python through the `scikit-learn` package. There are [tutorials](http://scikit-learn.org/stable/tutorial/index.html) available, and plenty of pages with more [background info](https://machinelearningmastery.com/a-gentle-introduction-to-scikit-learn-a-python-machine-learning-library/)."
   ]
  },
  {
   "cell_type": "code",
   "execution_count": 3,
   "metadata": {},
   "outputs": [],
   "source": [
    "from sklearn.linear_model import LinearRegression"
   ]
  },
  {
   "cell_type": "markdown",
   "metadata": {},
   "source": [
    "The [optimization packages](https://docs.scipy.org/doc/scipy/reference/optimize.html) in `scipy` can also be very useful, especially when implementing your own machine learning algorithms."
   ]
  },
  {
   "cell_type": "code",
   "execution_count": 4,
   "metadata": {},
   "outputs": [],
   "source": [
    "from scipy.optimize import minimize"
   ]
  },
  {
   "cell_type": "markdown",
   "metadata": {},
   "source": [
    "Finally, the `autograd` package provides [automatic differentiation](https://en.wikipedia.org/wiki/Automatic_differentiation) of python functions. This is a somewhat advanced feature that is generally beyond the scope of this course, but it is a very useful tool to know about."
   ]
  },
  {
   "cell_type": "code",
   "execution_count": 5,
   "metadata": {},
   "outputs": [],
   "source": [
    "import autograd.numpy as np   # autograd has its own \"version\" of numpy that must be used\n",
    "from autograd import grad # the \"grad\" function provides derivatives\n",
    "\n",
    "def position(t):\n",
    "    s1 = 5\n",
    "    s2 = 12\n",
    "    s3 = 40\n",
    "    if t < 10:\n",
    "        pos = s1*t\n",
    "    elif t < 15:\n",
    "        pos = s2*t - 10*(s2-s1)\n",
    "    else:\n",
    "        pos = s3*t - 15*(s3-s2) - 10*(s2-s1)\n",
    "    return pos"
   ]
  },
  {
   "cell_type": "markdown",
   "metadata": {},
   "source": [
    "We can take the derivative of this function using `autograd`:"
   ]
  },
  {
   "cell_type": "code",
   "execution_count": 6,
   "metadata": {},
   "outputs": [
    {
     "name": "stderr",
     "output_type": "stream",
     "text": [
      "/Users/Lecturing/anaconda3/lib/python3.6/site-packages/autograd/tracer.py:14: UserWarning: Output seems independent of input.\n",
      "  warnings.warn(\"Output seems independent of input.\")\n"
     ]
    },
    {
     "data": {
      "text/plain": [
       "[<matplotlib.lines.Line2D at 0x113f06fd0>]"
      ]
     },
     "execution_count": 6,
     "metadata": {},
     "output_type": "execute_result"
    },
    {
     "data": {
      "image/png": "[encoded data removed]",
      "text/plain": [
       "<matplotlib.figure.Figure at 0x10fd02cf8>"
      ]
     },
     "metadata": {},
     "output_type": "display_data"
    }
   ],
   "source": [
    "%matplotlib inline\n",
    "import pylab as plt\n",
    "\n",
    "t = np.linspace(0,20,100) # create a time series from 0-20 with 100 points\n",
    "x = [position(ti) for ti in t]\n",
    "speed = grad(position)\n",
    "accel = grad(speed)\n",
    "s = [speed(ti) for ti in t]\n",
    "a = [accel(ti) for ti in t]\n",
    "\n",
    "fig, axes = plt.subplots(1,3, figsize=(15,5))\n",
    "axes[0].plot(t,x)\n",
    "axes[1].plot(t,s)\n",
    "axes[2].plot(t,a)"
   ]
  },
  {
   "cell_type": "markdown",
   "metadata": {},
   "source": [
    "Usually it is most efficient to use a model that is already implemented in `scikit-learn` (or other packages) in a practical scenario, but it is also useful to build your own versions of the algorithms to better understand how they work."
   ]
  },
  {
   "cell_type": "markdown",
   "metadata": {},
   "source": [
    "## Machine learning basics"
   ]
  },
  {
   "cell_type": "markdown",
   "metadata": {},
   "source": [
    "### The structure of a machine-learning model\n",
    "\n",
    "The goal of machine learning is to utilize only data to \"learn\" a relationship between an input and an output:\n",
    "\n",
    "$\\vec{y} = f(\\vec{x})$\n",
    "\n",
    "where $f$ is the model, $x$ is the model input and $y$ is the model output. The model inputs, $\\vec{x}$ are often called the **features** of a data point. Sometimes the features are easy to obtain directly from the raw data (e.g. numerical attributes like concentration, temperature, pressure, etc.), but as we will see later in the course extracting features from raw data can be a challenge (e.g. images, audio, etc.). Features are \"fingerprints\" of raw input data.\n",
    "\n",
    "Of course representing the model as $f$ is a gross oversimplification. The model needs:\n",
    "\n",
    "* **parameters**, $\\vec{W}$, that define its behavior (e.g. slope, intercept)\n",
    "* **hyperparameters**, $\\vec{\\eta}$, that define the structure of the model (e.g. the number of polynomial terms)\n",
    "\n",
    "Notably, $\\vec{W}$ will depend on $\\vec{\\eta}$. So, we can be a little more specific:\n",
    "\n",
    "$\\vec{y} = f(\\vec{x}, \\vec{W}(\\vec{\\eta}))$\n",
    "\n",
    "Machine learning seeks to optimize both $\\vec{W}$ (parameter optimization) and $\\vec{\\eta}$ (complexity optimization) in order to obtain a model that generalizes to new input data."
   ]
  },
  {
   "cell_type": "code",
   "execution_count": 7,
   "metadata": {},
   "outputs": [
    {
     "data": {
      "text/html": [
       "<div>\n",
       "<style>\n",
       "    .dataframe thead tr:only-child th {\n",
       "        text-align: right;\n",
       "    }\n",
       "\n",
       "    .dataframe thead th {\n",
       "        text-align: left;\n",
       "    }\n",
       "\n",
       "    .dataframe tbody tr th {\n",
       "        vertical-align: top;\n",
       "    }\n",
       "</style>\n",
       "<table border=\"1\" class=\"dataframe\">\n",
       "  <thead>\n",
       "    <tr style=\"text-align: right;\">\n",
       "      <th></th>\n",
       "      <th>x1</th>\n",
       "      <th>x2</th>\n",
       "      <th>class</th>\n",
       "    </tr>\n",
       "  </thead>\n",
       "  <tbody>\n",
       "    <tr>\n",
       "      <th>0</th>\n",
       "      <td>0.273055</td>\n",
       "      <td>328.795581</td>\n",
       "      <td>0</td>\n",
       "    </tr>\n",
       "    <tr>\n",
       "      <th>1</th>\n",
       "      <td>0.797648</td>\n",
       "      <td>197.690321</td>\n",
       "      <td>0</td>\n",
       "    </tr>\n",
       "    <tr>\n",
       "      <th>2</th>\n",
       "      <td>0.956190</td>\n",
       "      <td>247.047065</td>\n",
       "      <td>0</td>\n",
       "    </tr>\n",
       "    <tr>\n",
       "      <th>3</th>\n",
       "      <td>1.043007</td>\n",
       "      <td>380.460727</td>\n",
       "      <td>0</td>\n",
       "    </tr>\n",
       "    <tr>\n",
       "      <th>4</th>\n",
       "      <td>1.430549</td>\n",
       "      <td>338.705346</td>\n",
       "      <td>0</td>\n",
       "    </tr>\n",
       "    <tr>\n",
       "      <th>5</th>\n",
       "      <td>1.575510</td>\n",
       "      <td>310.357404</td>\n",
       "      <td>0</td>\n",
       "    </tr>\n",
       "    <tr>\n",
       "      <th>6</th>\n",
       "      <td>1.116627</td>\n",
       "      <td>234.046671</td>\n",
       "      <td>0</td>\n",
       "    </tr>\n",
       "    <tr>\n",
       "      <th>7</th>\n",
       "      <td>1.421396</td>\n",
       "      <td>402.359107</td>\n",
       "      <td>0</td>\n",
       "    </tr>\n",
       "    <tr>\n",
       "      <th>8</th>\n",
       "      <td>1.373570</td>\n",
       "      <td>399.133828</td>\n",
       "      <td>0</td>\n",
       "    </tr>\n",
       "    <tr>\n",
       "      <th>9</th>\n",
       "      <td>1.516915</td>\n",
       "      <td>259.488743</td>\n",
       "      <td>0</td>\n",
       "    </tr>\n",
       "  </tbody>\n",
       "</table>\n",
       "</div>"
      ],
      "text/plain": [
       "         x1          x2  class\n",
       "0  0.273055  328.795581      0\n",
       "1  0.797648  197.690321      0\n",
       "2  0.956190  247.047065      0\n",
       "3  1.043007  380.460727      0\n",
       "4  1.430549  338.705346      0\n",
       "5  1.575510  310.357404      0\n",
       "6  1.116627  234.046671      0\n",
       "7  1.421396  402.359107      0\n",
       "8  1.373570  399.133828      0\n",
       "9  1.516915  259.488743      0"
      ]
     },
     "execution_count": 7,
     "metadata": {},
     "output_type": "execute_result"
    }
   ],
   "source": [
    "import pandas as pd\n",
    "example = pd.read_csv('example.csv')\n",
    "example.head(10)"
   ]
  },
  {
   "cell_type": "code",
   "execution_count": 8,
   "metadata": {},
   "outputs": [
    {
     "data": {
      "text/plain": [
       "Text(0,0.5,'y')"
      ]
     },
     "execution_count": 8,
     "metadata": {},
     "output_type": "execute_result"
    },
    {
     "data": {
      "image/png": "[encoded data removed]",
      "text/plain": [
       "<matplotlib.figure.Figure at 0x1a1a5d6b00>"
      ]
     },
     "metadata": {},
     "output_type": "display_data"
    }
   ],
   "source": [
    "x = example['x1']\n",
    "y = example['x2']\n",
    "c = example['class']\n",
    "fig,ax = plt.subplots()\n",
    "ax.scatter(x,y,c=c)\n",
    "ax.set_xlabel('x')\n",
    "ax.set_ylabel('y')"
   ]
  },
  {
   "cell_type": "markdown",
   "metadata": {},
   "source": [
    "### Classes of machine-learning models\n",
    "\n",
    "$\\vec{y} = f(\\vec{x}, \\vec{W}(\\vec{\\eta}))$\n",
    "\n",
    "We can classify models based on a few criteria:\n",
    "\n",
    "#### Supervised vs. Unsupervised\n",
    "\n",
    "In a \"supervised\" model we have \"training data\" for $\\vec{y}$, meaning that there are examples to define the pattern/relationship we are looking for.\n",
    "\n",
    "In an \"unsupervised\" model $\\vec{y}$ is determined by the structure of the inputs $\\vec{x}$. This is not really intutive given the way $y=f(x)$ is written; another way of thinking about it is that we look for \"inherent\" patterns in $\\vec{x}$ and those are our \"outputs\".\n",
    "\n",
    "#### Supervised models: Classification and regression\n",
    "\n",
    "Supervised models can be classified by the nature of their outputs. If the output $\\vec{y}$ is a continuous variable then it is a **regression** model, while if it is a discrete (boolean, ordinal, integer, etc.) variable then it is a **classification** model.\n",
    "\n",
    "#### Unsupervised models: Dimensional reduction and clustering\n",
    "\n",
    "There are two main types of unsupervised learning. **Dimensional reduction** algorithms project high-dimensional (many parameters) inputs ($\\vec{x}$) to a lower-dimensional space ($\\vec{\\tilde{x}}$, where len($\\vec{\\tilde{x}}$) < len($\\vec{x}$)). **Clustering** algorithms assign labels/groups to data points based on similarity metrics. Clustering is like unsupervised classification."
   ]
  },
  {
   "cell_type": "markdown",
   "metadata": {},
   "source": [
    "### Example: Polynomial regression\n",
    "\n",
    "$y = \\beta_0 + \\beta_1 x + \\beta_2 x^2 + \\beta_3 x^3 + \\beta_4 x^4 + ...$\n",
    "\n",
    "$y = \\sum_i^N \\beta_i x_i^N$"
   ]
  },
  {
   "cell_type": "code",
   "execution_count": 9,
   "metadata": {},
   "outputs": [
    {
     "name": "stdout",
     "output_type": "stream",
     "text": [
      "(179, 3) (179,)\n"
     ]
    }
   ],
   "source": [
    "from sklearn.linear_model import LinearRegression\n",
    "\n",
    "def polynomial_features(x, N):\n",
    "    # function to return a matrix of polynomials for x to order N\n",
    "    return np.array([x**k for k in range(0,N+1)]).T\n",
    "    \n",
    "X = polynomial_features(x, 2)\n",
    "print(X.shape, y.shape)"
   ]
  },
  {
   "cell_type": "markdown",
   "metadata": {},
   "source": [
    "The `scikit-learn` approach to polynomial regression is to build up a \"feature space\" of polynomial transforms of the original data, then use multi-linear regression. The common notation is to refer to the feature space as `X` and output as `y` for supervised models."
   ]
  },
  {
   "cell_type": "code",
   "execution_count": 10,
   "metadata": {},
   "outputs": [
    {
     "data": {
      "text/plain": [
       "<matplotlib.collections.PathCollection at 0x1a1a6ef9e8>"
      ]
     },
     "execution_count": 10,
     "metadata": {},
     "output_type": "execute_result"
    },
    {
     "data": {
      "image/png": "[encoded data removed]",
      "text/plain": [
       "<matplotlib.figure.Figure at 0x10ef9c5f8>"
      ]
     },
     "metadata": {},
     "output_type": "display_data"
    }
   ],
   "source": [
    "model = LinearRegression(fit_intercept=False)\n",
    "model.fit(X,y) #<- \"fit\" the model (optimize the parameters beta_i)\n",
    "yhat = model.predict(X) #<- get the model predictions (evaluate the optimized function)\n",
    "\n",
    "fig, ax = plt.subplots()\n",
    "ax.scatter(x,y) #<- plot the original data\n",
    "ax.scatter(x,yhat,color='r')"
   ]
  },
  {
   "cell_type": "markdown",
   "metadata": {},
   "source": [
    " ### Model complexity\n",
    " \n",
    " $\\vec{y} = f(\\vec{x}, \\vec{W}(\\vec{\\eta}))$\n",
    " \n",
    " The \"complexity\" of a model is defined by its hyperparameters ($\\vec{\\eta}$). The goal of machine learning is to **optimize the complexity** of a model so that it **generalizes to new examples**. In order to achieve this goal we first need a way to quantify complexity so that we can optimize it.\n",
    " \n",
    " In general there are a few strategies:\n",
    " \n",
    " * Number of parameters: \"Complexity\" varies linearly with number of parameters\n",
    " * Information criteria: \"Complexity\" varies logarithmically with number of parameters and is balanced with model accuracy.\n",
    " * \"Smoothness\": \"Complexity\" is related to the maximum curvature of the model\n",
    " \n",
    " \"With four parameters I can fit an elephant, and with five I can make him wiggle his trunk.\"\n",
    " \n",
    " -- John Von Neumann\n",
    " \n",
    " (see an [example here](https://www.johndcook.com/blog/2011/06/21/how-to-fit-an-elephant/))"
   ]
  },
  {
   "cell_type": "markdown",
   "metadata": {},
   "source": [
    "### Model parameter optimization\n",
    "\n",
    "The \"parameters\" of the model, $\\vec{W}$, must also be determined. This is achieved through numerical and/or analytical optimization of a \"loss function\" or \"objective function\" ($L(\\vec{W})$). This function defines the quality of the model.\n",
    "\n",
    "Typical loss functions include:\n",
    "\n",
    "* Sum of squared error (least-squares regression)\n",
    "* Sum of squared error plus size of parameters (regularization)\n",
    "* Mean absolute percentage error (neural networks)\n"
   ]
  },
  {
   "cell_type": "code",
   "execution_count": 11,
   "metadata": {},
   "outputs": [
    {
     "data": {
      "text/plain": [
       "145.74646522628407"
      ]
     },
     "execution_count": 11,
     "metadata": {},
     "output_type": "execute_result"
    }
   ],
   "source": [
    "SSE = sum((y-yhat)**2)\n",
    "MAE = np.sqrt(SSE/len(y))\n",
    "MAE"
   ]
  },
  {
   "cell_type": "markdown",
   "metadata": {},
   "source": [
    "### Model validation\n",
    "\n",
    "We also need a strategy to see if our model will **generalize to new examples**. This is achieved by \"cross-validation\", where some examples (\"test\" examples) are hidden when the model is fit to \"training\" examples, and the loss function is assessed on the data that was hidden.\n",
    "\n",
    "There are many strategies for cross-validation:\n",
    "\n",
    "* hold-out: randomly leave out a percentage (usually ~30%) of the data during training.\n",
    "* k-fold: select `k` (usually 3-5) randomly-assigned sub-groups of data, and train `k` times holding each group out.\n",
    "* leave p out: leave `p` (usually 1) samples out of the training and assess the error for the `p` that were left out. Repeat for all possible `p` subsets of the sample.\n",
    "* bootstrapping: random selection with replacement to generate a sample of the same size as the original dataset, with a number of repetitions.\n",
    "\n",
    "Cross-validation is used to determine hyperparameters. In this case, even the \"test\" sets are used to optimize the model. It is common to select an additional \"validation\" or \"holdout\" subset for a final validation of the model.\n",
    "\n",
    "Important (and often violated) assumption: **The collected data is representative of future data.**"
   ]
  },
  {
   "cell_type": "code",
   "execution_count": 12,
   "metadata": {},
   "outputs": [
    {
     "name": "stdout",
     "output_type": "stream",
     "text": [
      "MAE (test): 66.0636884323\n"
     ]
    },
    {
     "data": {
      "text/plain": [
       "<matplotlib.collections.PathCollection at 0x1a1a7ad160>"
      ]
     },
     "execution_count": 12,
     "metadata": {},
     "output_type": "execute_result"
    },
    {
     "data": {
      "image/png": "[encoded data removed]",
      "text/plain": [
       "<matplotlib.figure.Figure at 0x1a1a5d63c8>"
      ]
     },
     "metadata": {},
     "output_type": "display_data"
    }
   ],
   "source": [
    "from sklearn.model_selection import train_test_split\n",
    "\n",
    "N = 5\n",
    "X = polynomial_features(x, N)\n",
    "\n",
    "X_train, X_test, y_train, y_test = train_test_split(X, y, test_size=0.4)\n",
    "\n",
    "model.fit(X_train,y_train) #<- \"fit\" the model with training data\n",
    "yhat = model.predict(X_test) #<- get the model predictions for the test data\n",
    "\n",
    "SSE = sum((y_test-yhat)**2)\n",
    "MAE = np.sqrt(SSE/len(y)) #<- evaluate the loss function for the test data\n",
    "print('MAE (test):', MAE)\n",
    "\n",
    "fig, ax = plt.subplots()\n",
    "ax.scatter(x,y) #<- plot the original data\n",
    "ax.scatter(X_test[:,1],yhat,color='r')"
   ]
  },
  {
   "cell_type": "markdown",
   "metadata": {},
   "source": [
    "### What are the hyperparameters of the polynomial regression model that optimize the complexity?"
   ]
  },
  {
   "cell_type": "markdown",
   "metadata": {},
   "source": [
    "### Interpolation vs. Extrapolation\n",
    "\n",
    "In general, machine learning models can **only** interpolate. There are possible exceptions, but this requires some specialized model development and/or prior knowledge of the nature of the model.\n",
    "\n",
    "\"Extrapolation\" with machine learning models is typically achieved through search/exploration algorithms or \"adaptive learning\". These algorithms utilize machine-learning models to produce an iterative experimental design scheme that involves collection of new data. This effectively turns extrapolation problems into interpolation problems."
   ]
  },
  {
   "cell_type": "code",
   "execution_count": 13,
   "metadata": {},
   "outputs": [
    {
     "ename": "NameError",
     "evalue": "name 'modebl' is not defined",
     "output_type": "error",
     "traceback": [
      "\u001b[0;31m---------------------------------------------------------------------------\u001b[0m",
      "\u001b[0;31mNameError\u001b[0m                                 Traceback (most recent call last)",
      "\u001b[0;32m<ipython-input-13-998185708a71>\u001b[0m in \u001b[0;36m<module>\u001b[0;34m()\u001b[0m\n\u001b[1;32m      2\u001b[0m \u001b[0mX_extrap\u001b[0m \u001b[0;34m=\u001b[0m \u001b[0mpolynomial_features\u001b[0m\u001b[0;34m(\u001b[0m\u001b[0mx_extrap\u001b[0m\u001b[0;34m,\u001b[0m \u001b[0mN\u001b[0m\u001b[0;34m)\u001b[0m\u001b[0;34m\u001b[0m\u001b[0m\n\u001b[1;32m      3\u001b[0m \u001b[0;34m\u001b[0m\u001b[0m\n\u001b[0;32m----> 4\u001b[0;31m \u001b[0my_extrap\u001b[0m \u001b[0;34m=\u001b[0m \u001b[0mmodebl\u001b[0m\u001b[0;34m.\u001b[0m\u001b[0mpredict\u001b[0m\u001b[0;34m(\u001b[0m\u001b[0mX_extrap\u001b[0m\u001b[0;34m)\u001b[0m \u001b[0;31m#<- try to make a prediction out of original bounds\u001b[0m\u001b[0;34m\u001b[0m\u001b[0m\n\u001b[0m\u001b[1;32m      5\u001b[0m \u001b[0;34m\u001b[0m\u001b[0m\n\u001b[1;32m      6\u001b[0m \u001b[0max\u001b[0m\u001b[0;34m.\u001b[0m\u001b[0mscatter\u001b[0m\u001b[0;34m(\u001b[0m\u001b[0mX_extrap\u001b[0m\u001b[0;34m[\u001b[0m\u001b[0;34m:\u001b[0m\u001b[0;34m,\u001b[0m\u001b[0;36m1\u001b[0m\u001b[0;34m]\u001b[0m\u001b[0;34m,\u001b[0m\u001b[0my_extrap\u001b[0m\u001b[0;34m,\u001b[0m\u001b[0mcolor\u001b[0m\u001b[0;34m=\u001b[0m\u001b[0;34m'r'\u001b[0m\u001b[0;34m)\u001b[0m\u001b[0;34m\u001b[0m\u001b[0m\n",
      "\u001b[0;31mNameError\u001b[0m: name 'modebl' is not defined"
     ]
    }
   ],
   "source": [
    "x_extrap = np.linspace(min(x)-5, max(x)+5, 100)\n",
    "X_extrap = polynomial_features(x_extrap, N)\n",
    "\n",
    "y_extrap = modebl.predict(X_extrap) #<- try to make a prediction out of original bounds\n",
    "\n",
    "ax.scatter(X_extrap[:,1],y_extrap,color='r')\n",
    "fig"
   ]
  },
  {
   "cell_type": "markdown",
   "metadata": {},
   "source": [
    "### Global vs. Local models\n",
    "\n",
    "A \"global\" model has parameters that do not explicitly depend on or include the input space. The polynomial regression model is an example of a global model.\n",
    "\n",
    "A \"local\" model includes some parameters or hyperparameters that are in the model inputs or defined on the domain of the independent variable. A spline model is an example of a local model.\n",
    "\n",
    "Local models are generally excellent for interpolation, but fail miseraly for extrapolation, while global models are less accurate for interpolation but provide more reasonable extrapolations. Local models tend to have many more parameters, and proper optimization of model complexity can lead to similar performance for both types.\n",
    "\n",
    "*Note:* These definitions are not standard, but I find them intuitive. More common terms for \"local\" models are \"kernel\" models or \"piecewise\" models."
   ]
  },
  {
   "cell_type": "markdown",
   "metadata": {},
   "source": [
    "## Mathematical background"
   ]
  },
  {
   "cell_type": "markdown",
   "metadata": {},
   "source": [
    "### Linear and non-linear models\n",
    "\n",
    "<center>\n",
    "<img src=\"images/convex.png\" width=\"300\">\n",
    "<img src=\"images/nonconvex.png\" width=\"300\">\n",
    "</center>\n",
    "\n",
    "Linear models have a unique solution that can typically be obtained analytically and evaluated using linear algebra. Most linear models can be reduced to:\n",
    "\n",
    "$ \\underline{\\underline{A}} \\vec{x} = \\vec{b} $\n",
    "\n",
    "or, in summation notation:\n",
    "\n",
    "$ \\sum_i A_{ij} x_{i} = b_j $\n",
    "\n",
    "Non-linear models have multiple optima, and are considerably more complex. They can be solved with a range of algorithms that are often applied directly to the objective function:\n",
    "\n",
    "$\\frac{\\partial L(\\vec{W})}{\\partial \\vec{W}} = 0$\n",
    "\n",
    "Index notation can be useful for taking derivatives with respect to vectors:\n",
    "\n",
    "$\\frac{\\partial L(W_j)}{\\partial W_i} = 0$\n",
    "\n",
    "This is the \"Jacobian\" ($J_i$) of the loss function. Many optimization algorithms also use the \"Hessian\" matrix:\n",
    "\n",
    "$H_{ij} = \\frac{\\partial^2 L(W_k)}{\\partial W_i \\partial W_j}$\n",
    "\n",
    "The \"Jacobian\" and \"Hessian\" are multi-dimensional first- and second-derivatives."
   ]
  },
  {
   "cell_type": "markdown",
   "metadata": {},
   "source": [
    "## Is polynomial regression a \"linear\" or \"nonlinear\" model? Is it \"global\" or \"local\"?"
   ]
  },
  {
   "cell_type": "markdown",
   "metadata": {},
   "source": [
    "### A note on notation\n",
    "\n",
    "The use of \"index\" or \"summation\" notation is common in machine learning, and makes implementation and vector calculus much more convenient. You should be comfortable with (at least) the standard \"[vector notation](https://en.wikipedia.org/wiki/Vector_notation)\" ($\\underline{\\underline{A}}$, $\\vec{x}$) and \"[index notation](https://en.wikipedia.org/wiki/Index_notation)\" ($A_{ij}, x_i$). We will often switch between these notations, sometimes even within a single problem/derivation, so you should be comfortable with both.\n",
    "\n",
    "If you are struggling with index notation [this post](https://math.stackexchange.com/questions/2063241/matrix-multiplication-notation) may help."
   ]
  },
  {
   "cell_type": "markdown",
   "metadata": {},
   "source": [
    "## Linear Algebra\n",
    "\n",
    "You should already be famililar with linear algebra, but we will briefly review the basics and show how it works in `numpy` by covering the following:\n",
    "\n",
    "Formulating your code as matrix-matrix and matrix-vector operations in Numpy will make it much more efficient. We will briefly cover syntax for:\n",
    "\n",
    "* scalar*vector\n",
    "* scalar*matrix\n",
    "* matrix*vector\n",
    "* matrix*matrix\n",
    "* inverse\n",
    "* solve Ax=b\n",
    "* eigendecomposition\n",
    "\n",
    "`numpy` notes:\n",
    "\n",
    "* reshaping and resizing arrays\n",
    "* boolean and comparison operators on arrays"
   ]
  },
  {
   "cell_type": "markdown",
   "metadata": {
    "slideshow": {
     "slide_type": "subslide"
    }
   },
   "source": [
    "### Scalar-array operations\n",
    "\n",
    "We can use the usual arithmetic operators to multiply, add, subtract, and divide arrays with scalar numbers."
   ]
  },
  {
   "cell_type": "code",
   "execution_count": 14,
   "metadata": {
    "slideshow": {
     "slide_type": "fragment"
    }
   },
   "outputs": [
    {
     "name": "stdout",
     "output_type": "stream",
     "text": [
      "[0 1 2 3 4]\n",
      "----------\n",
      "[0 2 4 6 8]\n",
      "----------\n",
      "[2 3 4 5 6]\n"
     ]
    }
   ],
   "source": [
    "v1 = np.arange(0, 5)\n",
    "print(v1)\n",
    "print('-'*10)\n",
    "print(v1*2)\n",
    "print('-'*10)\n",
    "print(v1+2)"
   ]
  },
  {
   "cell_type": "markdown",
   "metadata": {
    "slideshow": {
     "slide_type": "subslide"
    }
   },
   "source": [
    "Same goes for matrices:"
   ]
  },
  {
   "cell_type": "code",
   "execution_count": 15,
   "metadata": {
    "slideshow": {
     "slide_type": "fragment"
    }
   },
   "outputs": [
    {
     "name": "stdout",
     "output_type": "stream",
     "text": [
      "[[ 0.69023301  0.19448382]\n",
      " [ 0.78319432  0.60608119]]\n",
      "----------\n",
      "[[ 1.38046602  0.38896764]\n",
      " [ 1.56638864  1.21216238]]\n",
      "----------\n",
      "[[ 2.69023301  2.19448382]\n",
      " [ 2.78319432  2.60608119]]\n"
     ]
    }
   ],
   "source": [
    "M = np.random.rand(2,2)\n",
    "print(M)\n",
    "print('-'*10)\n",
    "print(M*2)\n",
    "print('-'*10)\n",
    "print(M+2)"
   ]
  },
  {
   "cell_type": "markdown",
   "metadata": {
    "slideshow": {
     "slide_type": "subslide"
    }
   },
   "source": [
    "### Element-wise array-array operations\n",
    "\n",
    "When we add, subtract, multiply and divide arrays with each other, the default behaviour is **element-wise** operations. This is different from Matlab!"
   ]
  },
  {
   "cell_type": "code",
   "execution_count": 16,
   "metadata": {
    "slideshow": {
     "slide_type": "fragment"
    }
   },
   "outputs": [
    {
     "name": "stdout",
     "output_type": "stream",
     "text": [
      "[2 3 4 5]\n",
      "[ 4  9 16 25]\n",
      "[ 1.  1.  1.  1.]\n",
      "----------\n",
      "[[1 2]\n",
      " [3 4]]\n",
      "[[ 1  4]\n",
      " [ 9 16]]\n"
     ]
    }
   ],
   "source": [
    "v1 = np.arange(2,6)\n",
    "print(v1)\n",
    "print(v1*v1)\n",
    "print(v1/v1)\n",
    "\n",
    "print('-'*10)\n",
    "\n",
    "M = np.array([[1,2],[3,4]])\n",
    "print(M)\n",
    "print(M*M)"
   ]
  },
  {
   "cell_type": "markdown",
   "metadata": {
    "slideshow": {
     "slide_type": "subslide"
    }
   },
   "source": [
    "### Matrix algebra\n",
    "\n",
    "What about matrix mutiplication?\n",
    "\n",
    "* use the `dot` function (recommended)\n",
    "* use the `matrix` class (`+`, `*`, `-` use matrix algebra)"
   ]
  },
  {
   "cell_type": "code",
   "execution_count": 17,
   "metadata": {
    "slideshow": {
     "slide_type": "fragment"
    }
   },
   "outputs": [
    {
     "name": "stdout",
     "output_type": "stream",
     "text": [
      "[ 1.  2.  3.]\n",
      "[[ 1.  0.  0.]\n",
      " [ 0.  1.  0.]\n",
      " [ 0.  0.  1.]]\n",
      "14\n",
      "[[ 1.]\n",
      " [ 2.]\n",
      " [ 3.]]\n",
      "[[ 1.  0.  0.]\n",
      " [ 0.  1.  0.]\n",
      " [ 0.  0.  1.]]\n",
      "[[14]]\n"
     ]
    }
   ],
   "source": [
    "A = np.eye(3,3)\n",
    "v = np.array([1,2,3])\n",
    "print(np.dot(A,v))\n",
    "print(np.dot(A,A))\n",
    "print(np.dot(v,v))\n",
    "\n",
    "A = np.matrix(A)\n",
    "v = np.matrix(v)\n",
    "print(A*v.T)\n",
    "print(A*A)\n",
    "print(v*v.T)"
   ]
  },
  {
   "cell_type": "markdown",
   "metadata": {
    "slideshow": {
     "slide_type": "subslide"
    }
   },
   "source": [
    "### Common matrix operations\n",
    "\n",
    "We can easily calculate the inverse and determinant using `inv` and `det`"
   ]
  },
  {
   "cell_type": "code",
   "execution_count": 18,
   "metadata": {
    "slideshow": {
     "slide_type": "fragment"
    }
   },
   "outputs": [
    {
     "name": "stdout",
     "output_type": "stream",
     "text": [
      "[[-1  2]\n",
      " [ 3 -1]]\n",
      "[[ 0.2  0.4]\n",
      " [ 0.6  0.2]]\n",
      "-5.0\n"
     ]
    }
   ],
   "source": [
    "A = np.array([[-1,2],[3,-1]])\n",
    "print(A)\n",
    "print(np.linalg.inv(A))\n",
    "print(np.linalg.det(A))"
   ]
  },
  {
   "cell_type": "markdown",
   "metadata": {},
   "source": [
    "### Linear equation systems\n",
    "\n",
    "Linear equation systems on the matrix form\n",
    "\n",
    "$\\underline{\\underline{A}} \\vec{x} = \\vec{b}$\n",
    "\n",
    "where $A$ is a matrix and $x,b$ are vectors can be solved like:"
   ]
  },
  {
   "cell_type": "code",
   "execution_count": 19,
   "metadata": {},
   "outputs": [
    {
     "name": "stdout",
     "output_type": "stream",
     "text": [
      "[ 0.69064702 -0.95284723  0.95359424]\n"
     ]
    },
    {
     "data": {
      "text/plain": [
       "array([ -2.77555756e-17,   0.00000000e+00,   0.00000000e+00])"
      ]
     },
     "execution_count": 19,
     "metadata": {},
     "output_type": "execute_result"
    }
   ],
   "source": [
    "from  scipy.linalg  import solve\n",
    "\n",
    "N = 3\n",
    "A = np.random.rand(N,N)\n",
    "b = np.random.rand(N)\n",
    "\n",
    "x = solve(A, b)\n",
    "\n",
    "print(x)\n",
    "# check\n",
    "np.dot(A, x) - b"
   ]
  },
  {
   "cell_type": "markdown",
   "metadata": {},
   "source": [
    "We can also do the same with\n",
    "\n",
    "$\\underline{\\underline{A}} \\underline{\\underline{X}} = \\underline{\\underline{B}}$\n",
    "\n",
    "where $A, B, X$ are matrices:"
   ]
  },
  {
   "cell_type": "code",
   "execution_count": 20,
   "metadata": {},
   "outputs": [
    {
     "data": {
      "text/plain": [
       "array([[ -5.55111512e-17,   0.00000000e+00,   2.22044605e-16],\n",
       "       [  0.00000000e+00,   0.00000000e+00,   2.77555756e-17],\n",
       "       [  0.00000000e+00,   0.00000000e+00,   1.11022302e-16]])"
      ]
     },
     "execution_count": 20,
     "metadata": {},
     "output_type": "execute_result"
    }
   ],
   "source": [
    "A = np.random.rand(N,N)\n",
    "B = np.random.rand(N,N)\n",
    "\n",
    "X = solve(A, B)\n",
    "# check\n",
    "np.dot(A, X) - B"
   ]
  },
  {
   "cell_type": "markdown",
   "metadata": {},
   "source": [
    "### Exercise: Convince yourself that $\\underline{\\underline{A}} \\underline{\\underline{X}} = \\underline{\\underline{B}}$ is equivalent to solving `N` independent systems of the form $\\underline{\\underline{A}} \\vec{x} = \\vec{b}$."
   ]
  },
  {
   "cell_type": "markdown",
   "metadata": {},
   "source": [
    "### Eigenvalues and eigenvectors\n",
    "\n",
    "The eigenvalue problem for a matrix $\\underline{\\underline{A}}$:\n",
    "\n",
    "$\\underline{\\underline{A}} v_n = \\lambda_n v_n$\n",
    "\n",
    "where $v_n$ is the $n$th eigenvector and $\\lambda_n$ is the $n$th eigenvalue.\n",
    "\n",
    "To calculate eigenvalues of a matrix, use the `eigvals` function, and for calculating both eigenvalues and eigenvectors, use the function `eig`:"
   ]
  },
  {
   "cell_type": "code",
   "execution_count": 21,
   "metadata": {},
   "outputs": [
    {
     "name": "stdout",
     "output_type": "stream",
     "text": [
      "[ 1.60775288+0.j          0.07609822+0.21010778j  0.07609822-0.21010778j]\n",
      "[ 1.60775288+0.j          0.07609822+0.21010778j  0.07609822-0.21010778j]\n",
      "[[ 0.63118630+0.j         -0.23208721-0.43461641j -0.23208721+0.43461641j]\n",
      " [ 0.69896093+0.j         -0.23902831+0.54475591j -0.23902831-0.54475591j]\n",
      " [ 0.33624019+0.j          0.63509887+0.j          0.63509887-0.j        ]]\n"
     ]
    }
   ],
   "source": [
    "from scipy.linalg import eigvals, eig\n",
    "evals = eigvals(A)\n",
    "print(evals)\n",
    "\n",
    "evals, evecs = eig(A)\n",
    "print(evals)\n",
    "print(evecs)"
   ]
  },
  {
   "cell_type": "markdown",
   "metadata": {},
   "source": [
    "The eigenvectors corresponding to the $n$th eigenvalue (stored in evals[n]) is the $n$th column in evecs, i.e., evecs[:,n]. To verify this, let's try mutiplying eigenvectors with the matrix and compare to the product of the eigenvector and the eigenvalue:"
   ]
  },
  {
   "cell_type": "code",
   "execution_count": 22,
   "metadata": {},
   "outputs": [
    {
     "data": {
      "text/plain": [
       "array([  2.77555756e-17 +0.00000000e+00j,\n",
       "         1.11022302e-16 +6.93889390e-17j,   9.02056208e-17 -1.11022302e-16j])"
      ]
     },
     "execution_count": 22,
     "metadata": {},
     "output_type": "execute_result"
    }
   ],
   "source": [
    "n = 1\n",
    "\n",
    "np.dot(A, evecs[:,n]) - evals[n] * evecs[:,n]"
   ]
  },
  {
   "cell_type": "markdown",
   "metadata": {
    "slideshow": {
     "slide_type": "slide"
    }
   },
   "source": [
    "Eigendecompositions are very common in machine learning and data analysis, so you should brush up on this if you have forgotten what it means."
   ]
  },
  {
   "cell_type": "markdown",
   "metadata": {
    "slideshow": {
     "slide_type": "slide"
    }
   },
   "source": [
    "## Numpy notes:\n",
    "\n",
    "### Reshaping and resizing arrays"
   ]
  },
  {
   "cell_type": "markdown",
   "metadata": {
    "slideshow": {
     "slide_type": "subslide"
    }
   },
   "source": [
    "The shape of an Numpy array can be modified without copying the underlaying data, which makes it a fast operation even for large arrays. There are rules that govern how this reshaping takes place."
   ]
  },
  {
   "cell_type": "code",
   "execution_count": 23,
   "metadata": {
    "slideshow": {
     "slide_type": "fragment"
    }
   },
   "outputs": [
    {
     "name": "stdout",
     "output_type": "stream",
     "text": [
      "(3, 3, 3)\n",
      "(3, 9)\n",
      "(27,)\n"
     ]
    }
   ],
   "source": [
    "R = np.random.rand(3,3,3)\n",
    "print(R.shape)\n",
    "n,m,p = R.shape\n",
    "Q = R.reshape((n, m*p))\n",
    "print(Q.shape)\n",
    "F = R.flatten() #the \"flatten\" function turns the whole array into a vector\n",
    "print(F.shape)"
   ]
  },
  {
   "cell_type": "markdown",
   "metadata": {
    "slideshow": {
     "slide_type": "subslide"
    }
   },
   "source": [
    "Two common pitfalls in reshaping arrays:\n",
    "\n",
    "* Reshaping rules do not behave as expected\n",
    "* Reshaping provides a different \"view\" of the data, but **does not copy it**"
   ]
  },
  {
   "cell_type": "code",
   "execution_count": 24,
   "metadata": {
    "slideshow": {
     "slide_type": "fragment"
    }
   },
   "outputs": [
    {
     "name": "stdout",
     "output_type": "stream",
     "text": [
      "0.532311375095\n",
      "0.532311375095\n",
      "0.843954157485\n",
      "0.132446641984\n",
      "0.843954157485\n"
     ]
    }
   ],
   "source": [
    "print(R[0,0,0])\n",
    "print(F[0])\n",
    "print(R[0,1,0])\n",
    "print(F[1])\n",
    "print(F[3])"
   ]
  },
  {
   "cell_type": "code",
   "execution_count": 25,
   "metadata": {
    "slideshow": {
     "slide_type": "fragment"
    }
   },
   "outputs": [
    {
     "name": "stdout",
     "output_type": "stream",
     "text": [
      "0.532311375095\n",
      "10.0\n",
      "10.0\n"
     ]
    }
   ],
   "source": [
    "print(R[0,0,0])\n",
    "Q[0] = 10\n",
    "print(R[0,0,0]) #resize does not copy the data\n",
    "F[0] = 6\n",
    "print(R[0,0,0]) #flatten makes copies"
   ]
  },
  {
   "cell_type": "markdown",
   "metadata": {
    "slideshow": {
     "slide_type": "subslide"
    }
   },
   "source": [
    "### Making a \"deep copy\"\n",
    "\n",
    "If you really want a copy of an array, use the `np.copy` function:"
   ]
  },
  {
   "cell_type": "code",
   "execution_count": 26,
   "metadata": {
    "slideshow": {
     "slide_type": "fragment"
    }
   },
   "outputs": [
    {
     "name": "stdout",
     "output_type": "stream",
     "text": [
      "[[1 2]\n",
      " [3 4]]\n",
      "[[10  2]\n",
      " [ 3  4]]\n",
      "[[10  2]\n",
      " [ 3  4]]\n"
     ]
    }
   ],
   "source": [
    "A = np.array([[1, 2], [3, 4]])\n",
    "print(A)\n",
    "B = A\n",
    "B[0,0] = 10\n",
    "print(A)\n",
    "Acopy = np.copy(A)\n",
    "Acopy[1,1] = 6\n",
    "print(A)"
   ]
  },
  {
   "cell_type": "markdown",
   "metadata": {},
   "source": [
    "## Numerical optimization"
   ]
  },
  {
   "cell_type": "markdown",
   "metadata": {},
   "source": [
    "Optimization (finding minima or maxima of a function) is a large field in mathematics, and optimization of complicated functions or in many variables can be rather involved. Here we will only look at a few very simple cases. For a more detailed introduction to optimization with SciPy see: http://scipy-lectures.github.com/advanced/mathematical_optimization/index.html\n",
    "\n",
    "We can typically achieve good results using `scipy`'s built-in functions:"
   ]
  },
  {
   "cell_type": "code",
   "execution_count": 28,
   "metadata": {},
   "outputs": [
    {
     "data": {
      "text/plain": [
       "[<matplotlib.lines.Line2D at 0x1a1a874a20>]"
      ]
     },
     "execution_count": 28,
     "metadata": {},
     "output_type": "execute_result"
    },
    {
     "data": {
      "image/png": "[encoded data removed]",
      "text/plain": [
       "<matplotlib.figure.Figure at 0x1a1a8749e8>"
      ]
     },
     "metadata": {},
     "output_type": "display_data"
    }
   ],
   "source": [
    "def f(x):\n",
    "    return 4*x**3 + (x-2)**2 + x**4\n",
    "\n",
    "fig, ax  = plt.subplots()\n",
    "x = np.linspace(-5, 3, 100)\n",
    "ax.plot(x, f(x))"
   ]
  },
  {
   "cell_type": "markdown",
   "metadata": {},
   "source": [
    "There are many types of optimizers available. We will use the common BFGS and CG optimizers here, but you can read more in the [documentation](https://docs.scipy.org/doc/scipy/reference/optimize.html)."
   ]
  },
  {
   "cell_type": "code",
   "execution_count": 32,
   "metadata": {},
   "outputs": [
    {
     "data": {
      "text/plain": [
       "      fun: 2.8049876448687354\n",
       " hess_inv: array([[ 0.06288265]])\n",
       "      jac: array([  3.57627869e-07])\n",
       "  message: 'Optimization terminated successfully.'\n",
       "     nfev: 15\n",
       "      nit: 3\n",
       "     njev: 5\n",
       "   status: 0\n",
       "  success: True\n",
       "        x: array([ 0.46961745])"
      ]
     },
     "execution_count": 32,
     "metadata": {},
     "output_type": "execute_result"
    }
   ],
   "source": [
    "from  scipy.optimize  import minimize\n",
    "\n",
    "x_min = minimize(f, 0.5, method='BFGS')\n",
    "x_min"
   ]
  },
  {
   "cell_type": "markdown",
   "metadata": {},
   "source": [
    "A related problem is solving an equation, which can be achieved with the `fsolve` function:"
   ]
  },
  {
   "cell_type": "code",
   "execution_count": 52,
   "metadata": {
    "scrolled": true
   },
   "outputs": [
    {
     "data": {
      "text/plain": [
       "[<matplotlib.lines.Line2D at 0x1a1b1e10f0>]"
      ]
     },
     "execution_count": 52,
     "metadata": {},
     "output_type": "execute_result"
    },
    {
     "data": {
      "image/png": "[encoded data removed]",
      "text/plain": [
       "<matplotlib.figure.Figure at 0x1a1b1e1438>"
      ]
     },
     "metadata": {},
     "output_type": "display_data"
    }
   ],
   "source": [
    "def g(x):\n",
    "    return np.sin(3*x)*(1/x)\n",
    "\n",
    "fig, ax  = plt.subplots(figsize=(10,4))\n",
    "x = np.linspace(1, 10, 100)\n",
    "ax.plot(x, g(x))"
   ]
  },
  {
   "cell_type": "code",
   "execution_count": 57,
   "metadata": {},
   "outputs": [
    {
     "name": "stderr",
     "output_type": "stream",
     "text": [
      "/Users/Lecturing/anaconda3/lib/python3.6/site-packages/ipykernel_launcher.py:2: RuntimeWarning: divide by zero encountered in true_divide\n",
      "  \n",
      "/Users/Lecturing/anaconda3/lib/python3.6/site-packages/ipykernel_launcher.py:2: RuntimeWarning: invalid value encountered in multiply\n",
      "  \n",
      "/Users/Lecturing/anaconda3/lib/python3.6/site-packages/scipy/optimize/minpack.py:161: RuntimeWarning: The iteration is not making good progress, as measured by the \n",
      "  improvement from the last ten iterations.\n",
      "  warnings.warn(msg, RuntimeWarning)\n"
     ]
    },
    {
     "data": {
      "text/plain": [
       "array([ 0.])"
      ]
     },
     "execution_count": 57,
     "metadata": {},
     "output_type": "execute_result"
    }
   ],
   "source": [
    "from scipy.optimize import fsolve\n",
    "\n",
    "ans = fsolve(g, 0)\n",
    "ans"
   ]
  },
  {
   "cell_type": "markdown",
   "metadata": {},
   "source": [
    "# Prototype algorithms\n",
    "\n",
    "We will introduce a prototype for each class of algorithm with a derivation and/or custom implementation. These algorithms will be revisited later in the course (along with others)."
   ]
  },
  {
   "cell_type": "markdown",
   "metadata": {},
   "source": [
    "## Generalized linear regression"
   ]
  },
  {
   "cell_type": "markdown",
   "metadata": {},
   "source": [
    "## k Nearest Neighbors (classification)"
   ]
  },
  {
   "cell_type": "markdown",
   "metadata": {},
   "source": [
    "## k means (clustering)"
   ]
  },
  {
   "cell_type": "markdown",
   "metadata": {},
   "source": [
    "## Principal component analysis (dimensional reduction)"
   ]
  }
 ],
 "metadata": {
  "kernelspec": {
   "display_name": "Python 3",
   "language": "python",
   "name": "python3"
  },
  "language_info": {
   "codemirror_mode": {
    "name": "ipython",
    "version": 3
   },
   "file_extension": ".py",
   "mimetype": "text/x-python",
   "name": "python",
   "nbconvert_exporter": "python",
   "pygments_lexer": "ipython3",
   "version": "3.6.3"
  }
 },
 "nbformat": 4,
 "nbformat_minor": 2
}
